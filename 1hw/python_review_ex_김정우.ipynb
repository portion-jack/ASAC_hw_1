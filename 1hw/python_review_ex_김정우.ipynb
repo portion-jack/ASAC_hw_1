{
 "cells": [
  {
   "cell_type": "markdown",
   "id": "59ca3b38",
   "metadata": {
    "pycharm": {
     "name": "#%% md\n"
    }
   },
   "source": [
    "# 기본 연습 문제 리뷰"
   ]
  },
  {
   "cell_type": "markdown",
   "id": "b8886266",
   "metadata": {
    "pycharm": {
     "name": "#%% md\n"
    }
   },
   "source": [
    " "
   ]
  },
  {
   "cell_type": "markdown",
   "id": "bc182f96",
   "metadata": {
    "pycharm": {
     "name": "#%% md\n"
    }
   },
   "source": [
    "### 01. \n",
    "8과목의 점수를 입력을 받아서, 이들의 평균을 구하는 것을 구하세요. 아래와 같이 본인이 입력을 받으려는 과목의 이름을 출력을 하면서, 그 과목의 점수를 입력을 받으면서 진행을 하세요"
   ]
  },
  {
   "cell_type": "code",
   "execution_count": 1,
   "id": "fac1747a",
   "metadata": {
    "pycharm": {
     "name": "#%%\n"
    }
   },
   "outputs": [
    {
     "name": "stdout",
     "output_type": "stream",
     "text": [
      "평균 : 35.0\n"
     ]
    }
   ],
   "source": [
    "subject_list = ['국어','수학','과학','사회','영어','음악']\n",
    "subject_score_list = []\n",
    "for subject in subject_list:\n",
    "        score = int(input(f\"{subject}를 입력하세요\"))\n",
    "        subject_score_list.append(score)\n",
    "print(f'평균 : {sum(subject_score_list)/len(subject_score_list)}')\n"
   ]
  },
  {
   "cell_type": "markdown",
   "id": "a2359c7b",
   "metadata": {
    "pycharm": {
     "name": "#%% md\n"
    }
   },
   "source": [
    "### 02. \n",
    "아래와 같은 학생 성적에 대해서 a = {\"A\": 30, \"B\":50, \"C\":20,\"D\":30, \"E\":85, \"F\":85,\"G\":20}의 데이터에 대해서, 최고점의 점수와 최고점을 받은 학생이 몇 명인지 알려주세요"
   ]
  },
  {
   "cell_type": "code",
   "execution_count": 2,
   "outputs": [
    {
     "data": {
      "text/plain": "85"
     },
     "execution_count": 2,
     "metadata": {},
     "output_type": "execute_result"
    }
   ],
   "source": [
    "a = {\"A\": 30, \"B\":50, \"C\":20,\"D\":30, \"E\":85, \"F\":85,\"G\":20}\n",
    "\n",
    "max(a.values())"
   ],
   "metadata": {
    "collapsed": false,
    "pycharm": {
     "name": "#%%\n"
    }
   }
  },
  {
   "cell_type": "code",
   "execution_count": 3,
   "outputs": [],
   "source": [
    "ans = 0\n",
    "for k,v in a.items():\n",
    "    if v == max(a.values()):\n",
    "        ans += 1"
   ],
   "metadata": {
    "collapsed": false,
    "pycharm": {
     "name": "#%%\n"
    }
   }
  },
  {
   "cell_type": "code",
   "execution_count": 4,
   "id": "417964d3",
   "metadata": {
    "pycharm": {
     "name": "#%%\n"
    }
   },
   "outputs": [
    {
     "name": "stdout",
     "output_type": "stream",
     "text": [
      "최고점 : 85\n",
      "최고점 학생 수 : 2\n"
     ]
    }
   ],
   "source": [
    "a = {\"A\": 30, \"B\":50, \"C\":20,\"D\":30, \"E\":85, \"F\":85,\"G\":20}\n",
    "print(f'최고점 : {max(a.values())}')\n",
    "ans = 0\n",
    "for k,v in a.items():\n",
    "    if v == max(a.values()):\n",
    "        ans += 1\n",
    "print(f\"최고점 학생 수 : {ans}\")"
   ]
  },
  {
   "cell_type": "markdown",
   "id": "9b0f3744",
   "metadata": {
    "pycharm": {
     "name": "#%% md\n"
    }
   },
   "source": [
    "### 03.\n",
    "a = [\"three\", \"six\", \"nine\", \"twelve\"] 데이터를 기반으로 b = [\"three_3\", \"six_6\", \"nine_9\", \"twelve_12\"]로 만들어보세요~"
   ]
  },
  {
   "cell_type": "code",
   "execution_count": 5,
   "id": "977bc151",
   "metadata": {
    "pycharm": {
     "name": "#%%\n"
    }
   },
   "outputs": [],
   "source": [
    "a = [\"three\", \"six\", \"nine\", \"twelve\"]\n"
   ]
  },
  {
   "cell_type": "code",
   "execution_count": 6,
   "outputs": [
    {
     "data": {
      "text/plain": "['three_3', 'six_6', 'nine_9', 'twelve_12']"
     },
     "execution_count": 6,
     "metadata": {},
     "output_type": "execute_result"
    }
   ],
   "source": [
    "a = [\"three\", \"six\", \"nine\", \"twelve\"]\n",
    "help_dict = {\n",
    "    'one': '1',\n",
    "    'two': '2',\n",
    "    'three': '3',\n",
    "    'four': '4',\n",
    "    'five': '5',\n",
    "    'six': '6',\n",
    "    'seven': '7',\n",
    "    'eight': '8',\n",
    "    'nine': '9',\n",
    "    'twelve':'12',\n",
    "    'zero': '0',\n",
    "}\n",
    "['_'.join((i,help_dict[i])) for i in a]"
   ],
   "metadata": {
    "collapsed": false,
    "pycharm": {
     "name": "#%%\n"
    }
   }
  },
  {
   "cell_type": "markdown",
   "id": "0b0446ad",
   "metadata": {
    "pycharm": {
     "name": "#%% md\n"
    }
   },
   "source": [
    "### 04.\n",
    "a = [ 100, 300, 150, 200, 500, 800, 300, 200, 100, 450 , 800, 100 ] 의 데이터가 주어졌을 때, 이들 중에서 100, 200, 800, 500, 450, 300 의 값을 제외한 나머지 값들에 대해서  / 100을 값을 아래와 같이 출력하세요~ 아래와 같은 2가지 방법으로 하세요<br>\n",
    "방법1 : 리스트 컴프리핸션, not in 사용<br>\n",
    "방법2 : 리스트 컴프리핸션, in 사용"
   ]
  },
  {
   "cell_type": "code",
   "execution_count": 7,
   "id": "7eb4eb00",
   "metadata": {
    "pycharm": {
     "name": "#%%\n"
    }
   },
   "outputs": [],
   "source": [
    "a = [ 100, 300, 150, 200, 500, 800, 300, 200, 100, 450 , 800, 100 ]"
   ]
  },
  {
   "cell_type": "code",
   "execution_count": 8,
   "id": "c5f5c1b9",
   "metadata": {
    "pycharm": {
     "name": "#%%\n"
    }
   },
   "outputs": [
    {
     "data": {
      "text/plain": "[1.5]"
     },
     "execution_count": 8,
     "metadata": {},
     "output_type": "execute_result"
    }
   ],
   "source": [
    "#) not in 을 사용해서 하기\n",
    "[i/100 for i in a if i not in [100,200,800,500,450,300]]"
   ]
  },
  {
   "cell_type": "code",
   "execution_count": 9,
   "id": "823d2e6e",
   "metadata": {
    "pycharm": {
     "name": "#%%\n"
    }
   },
   "outputs": [
    {
     "data": {
      "text/plain": "[1.5]"
     },
     "execution_count": 9,
     "metadata": {},
     "output_type": "execute_result"
    }
   ],
   "source": [
    "# in을 사용해서 하기\n",
    "[i/100 for i in a if i not in [100,200,800,500,450,300]]"
   ]
  },
  {
   "cell_type": "markdown",
   "id": "b6cdd80a",
   "metadata": {
    "pycharm": {
     "name": "#%% md\n"
    }
   },
   "source": [
    "### 05.\n",
    "100까지의 소수를 모두 찾아보세요~"
   ]
  },
  {
   "cell_type": "code",
   "execution_count": 10,
   "id": "e1000432",
   "metadata": {
    "pycharm": {
     "name": "#%%\n"
    }
   },
   "outputs": [
    {
     "name": "stdout",
     "output_type": "stream",
     "text": [
      "2,3,5,7,11,13,17,19,23,29,31,37,41,43,47,53,59,61,67,71,73,79,83,89,97,"
     ]
    }
   ],
   "source": [
    "def is_prime(n):\n",
    "    if n == 1:\n",
    "        return False\n",
    "    if n == 2:\n",
    "        return True\n",
    "    for i in range(2,int(n**0.5)+1):\n",
    "        if n % i == 0:\n",
    "            return False\n",
    "    return True\n",
    "\n",
    "for i in range(1,101):\n",
    "    if is_prime(i):\n",
    "        print(i,end=',')"
   ]
  },
  {
   "cell_type": "markdown",
   "id": "1298f9f1",
   "metadata": {
    "pycharm": {
     "name": "#%% md\n"
    }
   },
   "source": [
    "### 06.\n",
    "아래의 그림을 만들어 보세요"
   ]
  },
  {
   "cell_type": "code",
   "execution_count": 11,
   "id": "5dc3543f",
   "metadata": {
    "pycharm": {
     "name": "#%%\n"
    }
   },
   "outputs": [
    {
     "name": "stdout",
     "output_type": "stream",
     "text": [
      "@@@@@@@@@\n",
      " @@@@@@@\n",
      "  @@@@@\n",
      "   @@@\n",
      "    @\n"
     ]
    }
   ],
   "source": [
    "for i in range(5)[::-1]:\n",
    "    print(' '*(4-i)+'@'*(2*i+1))"
   ]
  },
  {
   "cell_type": "markdown",
   "id": "3f12723d",
   "metadata": {
    "pycharm": {
     "name": "#%% md\n"
    }
   },
   "source": [
    "### 07.\n",
    "3개의 수를 입력을 받고, 그 중에서 가장 큰 숫자를 출력하세요"
   ]
  },
  {
   "cell_type": "code",
   "execution_count": 12,
   "id": "ad7dbc92",
   "metadata": {
    "pycharm": {
     "name": "#%%\n"
    }
   },
   "outputs": [
    {
     "name": "stdout",
     "output_type": "stream",
     "text": [
      "처음 수: 3\n",
      "두번 째 수: 5\n",
      "마지막 수: 2\n",
      "5\n"
     ]
    }
   ],
   "source": [
    "n_1 = int(input(\"처음 수\"))\n",
    "print(f'처음 수: {n_1}')\n",
    "n_2 = int(input(\"두번 째 수\"))\n",
    "print(f'두번 째 수: {n_2}')\n",
    "n_3 = int(input(\"마지막 수\"))\n",
    "print(f'마지막 수: {n_3}')\n",
    "\n",
    "print(max([n_1,n_2,n_3]))"
   ]
  },
  {
   "cell_type": "markdown",
   "id": "f00d5d81",
   "metadata": {
    "pycharm": {
     "name": "#%% md\n"
    }
   },
   "source": [
    "### 08.\n",
    "아래와 같이 주가 가격의 정보가 있다. 가로줄은 1일에 대한 시가, 고가, 저가, 종가의 순으로 되어 있으며, 고가가 200보다 큰 경우를 출력하세요"
   ]
  },
  {
   "cell_type": "code",
   "execution_count": 13,
   "id": "b9efb534",
   "metadata": {
    "pycharm": {
     "name": "#%%\n"
    }
   },
   "outputs": [],
   "source": [
    "data = [[\"open\", \"high\", \"low\", \"close\"],\n",
    "        [120, 150, 90, 100],\n",
    "        [230, 220, 120, 200],\n",
    "        [340, 340, 300, 200]]"
   ]
  },
  {
   "cell_type": "code",
   "execution_count": 14,
   "id": "97ed67d3",
   "metadata": {
    "pycharm": {
     "name": "#%%\n"
    }
   },
   "outputs": [
    {
     "name": "stdout",
     "output_type": "stream",
     "text": [
      "220\n",
      "340\n"
     ]
    }
   ],
   "source": [
    "for price in data[1:]:\n",
    "    if price[1] >= 200:\n",
    "        print(price[1])"
   ]
  },
  {
   "cell_type": "markdown",
   "id": "48c7305b",
   "metadata": {
    "pycharm": {
     "name": "#%% md\n"
    }
   },
   "source": [
    "### 09.\n",
    "아래와 같이 주가 가격의 정보가 있다. 가로줄은 1일에 대한 시가, 고가, 저가, 종가의 순으로 되어 있으며, 그 날의 고가과 저가의 변동폭을 날짜별로 출력을 하세요"
   ]
  },
  {
   "cell_type": "code",
   "execution_count": 15,
   "id": "62d68df9",
   "metadata": {
    "pycharm": {
     "name": "#%%\n"
    }
   },
   "outputs": [],
   "source": [
    "data = [[\"open\", \"high\", \"low\", \"close\"],\n",
    "        [120, 150, 90, 100],\n",
    "        [230, 220, 120, 200],\n",
    "        [340, 340, 300, 200]]"
   ]
  },
  {
   "cell_type": "code",
   "execution_count": 17,
   "id": "58b7b28d",
   "metadata": {
    "pycharm": {
     "name": "#%%\n"
    }
   },
   "outputs": [
    {
     "name": "stdout",
     "output_type": "stream",
     "text": [
      "[60, 100, 40]\n"
     ]
    }
   ],
   "source": [
    "ans=list()\n",
    "for price in data[1:]:\n",
    "    ans.append(price[1]-price[2])\n",
    "print(ans)"
   ]
  },
  {
   "cell_type": "markdown",
   "id": "1a469858",
   "metadata": {
    "pycharm": {
     "name": "#%% md\n"
    }
   },
   "source": [
    "### 10. \n",
    "아래와 같이 주가 가격의 정보가 있다. 가로 줄은 1일에 대한 시가, 고가, 저가, 종가의 순으로 되어 있으며, 그날 시가에 사서 고가에 매도를 하였을 때 날짜별로 수익금을 출력하세요"
   ]
  },
  {
   "cell_type": "code",
   "execution_count": 18,
   "id": "49fe34f1",
   "metadata": {
    "pycharm": {
     "name": "#%%\n"
    }
   },
   "outputs": [],
   "source": [
    "data = [[\"open\", \"high\", \"low\", \"close\"],\n",
    "        [120, 150, 90, 100],\n",
    "        [230, 220, 120, 200],\n",
    "        [340, 340, 300, 200]]"
   ]
  },
  {
   "cell_type": "code",
   "execution_count": 19,
   "id": "0bffe1e3",
   "metadata": {
    "pycharm": {
     "name": "#%%\n"
    }
   },
   "outputs": [
    {
     "name": "stdout",
     "output_type": "stream",
     "text": [
      "0일 수익금 : 30\n",
      "1일 수익금 : -10\n",
      "2일 수익금 : 0\n"
     ]
    }
   ],
   "source": [
    "ans=list()\n",
    "for i,price in enumerate(data[1:]):\n",
    "    print(f\"{i}일 수익금 : {price[1]-price[0]}\")"
   ]
  }
 ],
 "metadata": {
  "kernelspec": {
   "display_name": "Python 3 (ipykernel)",
   "language": "python",
   "name": "python3"
  },
  "language_info": {
   "codemirror_mode": {
    "name": "ipython",
    "version": 3
   },
   "file_extension": ".py",
   "mimetype": "text/x-python",
   "name": "python",
   "nbconvert_exporter": "python",
   "pygments_lexer": "ipython3",
   "version": "3.9.7"
  }
 },
 "nbformat": 4,
 "nbformat_minor": 5
}